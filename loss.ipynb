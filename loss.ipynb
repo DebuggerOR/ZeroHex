{
 "cells": [
  {
   "cell_type": "code",
   "execution_count": null,
   "outputs": [
    {
     "name": "stderr",
     "text": [
      "Using TensorFlow backend.\n"
     ],
     "output_type": "stream"
    }
   ],
   "source": [
    "from agent1_zero_dnn.compare import *\n",
    "from convertor.Convertor_ver3 import convert\n",
    "from convertor.Convertor_ver3 import convert_last_moves\n",
    "from agent1_zero_dnn.game import ori_moves, best_11_moves\n",
    "from agent1_zero_dnn.generate import fix_probabilities\n",
    "import sys\n",
    "import numpy as np\n",
    "import os\n",
    "# file_name = \"data_text_games_name_in_first_line/2688.txt\"\n",
    "# file_name = \"data_text_games_name_in_first_line/2508.txt\"\n",
    "# file_name = \"data_text_games_name_in_first_line/2062.txt\"\n",
    "model_file1 = \"agent1_zero_dnn/model\"\n",
    "config = CompareConfig()\n",
    "# moves = convert(file_name)\n",
    "\n",
    "model = load_model(model_file1)\n",
    "predictor = TreeSearchPredictor(config.search_config, model, new_board(config.size), True)\n",
    "temp = 0.7\n",
    "\n",
    "\n",
    "def calc_file(file_name):\n",
    "    win, lose = 0, 0\n",
    "    moves = convert(file_name)\n",
    "    for mv in moves:\n",
    "        # insert board to predictor\n",
    "        if mv.color == 'W':\n",
    "            predictor.board = np.array(mv.board_stt)\n",
    "        elif mv.color == 'B':\n",
    "            predictor.board = np.array(flip_move(mv.board_stt))\n",
    "        predictor.run(config.iterations)\n",
    "        # predict\n",
    "        value, probabilities = predictor.predict()\n",
    "        probabilities = fix_probabilities(predictor.board, probabilities)\n",
    "        # print(probabilities)\n",
    "        tprobs = temperature(probabilities, temp)\n",
    "        next_move = mv.next_mv[0], mv.next_mv[1]\n",
    "        predictor.make_move(next_move)\n",
    "        # get 15 different moves from model\n",
    "        # todo tprobs in ori moves\n",
    "        model_moves = best_11_moves(probabilities)\n",
    "    #    model_moves = ori_moves(probabilities, 15)\n",
    "    #     print('user {}'.format(next_move))\n",
    "    #     print('model {}'.format(model_moves))\n",
    "        # check if user's move in prediction\n",
    "        if next_move in model_moves:\n",
    "            win += 1\n",
    "        else:\n",
    "            lose += 1\n",
    "    print('wins: %d' % win)\n",
    "    print('lose: %d' % lose)\n",
    "    if moves.__len__() != 0:\n",
    "        print('ratio: %s' % (win/(win+lose)))\n",
    "    print('-----------------------------')\n",
    "# print_board(predictor.board, flip_move(next_move), file=sys.stderr)"
   ],
   "metadata": {
    "collapsed": false,
    "pycharm": {
     "name": "#%%\n",
     "is_executing": true
    }
   }
  },
  {
   "cell_type": "code",
   "execution_count": null,
   "outputs": [],
   "source": [
    "if __name__ == '__main__':\n",
    "    files = os.listdir('data_text_games_name_in_first_line')\n",
    "    for file in files:\n",
    "        print(file)\n",
    "        calc_file('data_text_games_name_in_first_line/' + file)"
   ],
   "metadata": {
    "collapsed": false,
    "pycharm": {
     "name": "#%%\n"
    }
   }
  }
 ],
 "metadata": {
  "language_info": {
   "codemirror_mode": {
    "name": "ipython",
    "version": 2
   },
   "file_extension": ".py",
   "mimetype": "text/x-python",
   "name": "python",
   "nbconvert_exporter": "python",
   "pygments_lexer": "ipython2",
   "version": "2.7.6"
  },
  "kernelspec": {
   "name": "python3",
   "language": "python",
   "display_name": "Python 3"
  },
  "pycharm": {
   "stem_cell": {
    "cell_type": "raw",
    "source": [],
    "metadata": {
     "collapsed": false
    }
   }
  }
 },
 "nbformat": 4,
 "nbformat_minor": 0
}